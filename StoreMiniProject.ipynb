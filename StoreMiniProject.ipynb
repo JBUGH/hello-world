{
  "nbformat": 4,
  "nbformat_minor": 0,
  "metadata": {
    "colab": {
      "provenance": [],
      "authorship_tag": "ABX9TyMnrkFDOV0KGzFwrzF3r1Yi"
    },
    "kernelspec": {
      "name": "python3",
      "display_name": "Python 3"
    },
    "language_info": {
      "name": "python"
    }
  },
  "cells": [
    {
      "cell_type": "code",
      "source": [
        "# import the random module\n",
        "# use \"winnings = random.randint(2, 10)\" to generate a random int from 2 - 10 and store in a variable \"winnings\"\n",
        "import random\n",
        "\n",
        "# unit price of a lottery ticket\n",
        "constant_lottery_unit_price = 2\n",
        "\n",
        "# unit price of an apple\n",
        "constant_apple_unit_price = .99\n",
        "\n",
        "# unit price of a can of beans\n",
        "constant_canned_beans_unit_price = 1.58\n",
        "\n",
        "# unit price of a soda\n",
        "constant_soda_unit_price = 1.23\n",
        "\n",
        "# the user has initial $5 for shopping\n",
        "money = 5\n",
        "\n",
        "# the user has spent $0 initially\n",
        "money_spent = 0\n",
        "\n",
        "# the amounts of lottery tickets, apples, cans of beans, and sodas the user has purchased\n",
        "lottery_amount, apple_amount, canned_beans_amount, soda_amount = 0, 0, 0, 0\n",
        "\n",
        "# Greeting and price announcements\n",
        "print(\"Welcome to the supermarket! Here's what we have in stock:\")\n",
        "print(\"Lottery tickets cost  $2 each - Apples cost $0.99 each\")\n",
        "print(\"Cans of beans cost  $1.58 each - Sodas cost $1.23 each\")\n",
        "\n",
        "# Tell the customer how much money they have available\n",
        "print(\"You have $5 available\")\n",
        "\n",
        "# # Ask the customer if they want lottery\n",
        "lotto_tickets = input(\"First, do you want to buy a $2 lottery ticket for a chance at winning $2-$10? (y/n)\")\n",
        "\n",
        "purchased_tickets = 0\n",
        "\n",
        "if lotto_tickets == \"y\":\n",
        "  purchased_tickets += 1\n",
        "  money_spent += constant_lottery_unit_price\n",
        "  winnings = random.randint(2, 10)\n",
        "  money = money + winnings\n",
        "  print(f\"Congrats! You won ${winnings}!\") # Use f-string for variable substitution\n",
        "else:\n",
        "    print(\"Sorry! You did not win the lottery.\")\n",
        "    if lotto_tickets != \"y\":\n",
        "      print(\"You did not purchase a lottery ticket.\")\n",
        "\n",
        "\n",
        "# Tell the customer how much money they have available\n",
        "print(f\"You have ${round(money,2)} available\")\n",
        "\n",
        "# Input of how many apples the customer wants\n",
        "apples = input(\"Do you want to buy apple(s)? (y/n)\")\n",
        "\n",
        "\n",
        "# If customer wants apples\n",
        "if apples == \"y\":\n",
        "  apple_amount = int(input(\"How many apple(s) do you want to buy?\"))\n",
        "  if apple_amount > 0:\n",
        "    print(f\"The user wants to buy {apple_amount} apple(s). This will cost ${apple_amount * constant_apple_unit_price}.\")\n",
        "    if money >= apple_amount * constant_apple_unit_price:\n",
        "      money_spent += apple_amount * constant_apple_unit_price\n",
        "      money -= apple_amount * constant_apple_unit_price\n",
        "      print(f\"The user has enough money. {apple_amount} apple(s) purchased.\")\n",
        "    else:\n",
        "      print(\"Not enough money! No apples purchased.\")\n",
        "  else:\n",
        "    print(\"Integer values only! No apples selected.\")\n",
        "\n",
        "\n",
        "\n",
        "\n",
        "# Tell the customer how much money they have available\n",
        "print(f\"You have ${round(money,2)} available\")\n",
        "\n",
        "# Input of how many beans the customer wants\n",
        "beans = input(\"Do you want to buy beans? (y/n)\")\n",
        "\n",
        "# If customer wants beans\n",
        "\n",
        "if beans == \"y\":\n",
        "  canned_beans_amount = int(input(\"How many cans of beans do you want to buy?\"))\n",
        "  if canned_beans_amount > 0:\n",
        "    print(f\"The user wants to buy {canned_beans_amount} can(s) of beans. This will cost ${canned_beans_amount * constant_canned_beans_unit_price}.\")\n",
        "\n",
        "    if money >= canned_beans_amount * constant_canned_beans_unit_price:\n",
        "      money_spent += canned_beans_amount * constant_canned_beans_unit_price\n",
        "      money -= canned_beans_amount * constant_canned_beans_unit_price\n",
        "\n",
        "      print(f\"The user has enough money. {canned_beans_amount} can(s) of beans purchased.\")\n",
        "    else:\n",
        "      print(\"Not enough money! No beans purchased.\")\n",
        "\n",
        "  else:\n",
        "    print(\"Integer values only! No beans selected.\")\n",
        "\n",
        "\n",
        "\n",
        "\n",
        "# Tell the customer how much money they have available\n",
        "print(f\"You have ${round(money,2)} available\")\n",
        "\n",
        "# Input of how many cans of soda the customer wants\n",
        "soda_amount = input(\"Do you want to buy apple(s)? (y/n)\")\n",
        "\n",
        "# If customer wants soda\n",
        "\n",
        "if soda_amount == \"y\":\n",
        "  soda_amount = int(input(\"How many cans of soda do you want to buy?\"))\n",
        "  if soda_amount > 0:\n",
        "    print(f\"The user wants to buy {soda_amount} can(s) of soda. This will cost ${soda_amount * constant_soda_unit_price}.\")\n",
        "\n",
        "    if money >= soda_amount * constant_soda_unit_price:\n",
        "      money_spent += soda_amount * constant_soda_unit_price\n",
        "      money -= soda_amount * constant_soda_unit_price\n",
        "\n",
        "      print(f\"The user has enough money. {soda_amount} can(s) of soda purchased.\")\n",
        "    else:\n",
        "      print(\"Not enough money! No soda purchased.\")\n",
        "\n",
        "  else:\n",
        "    print(\"Integer values only! No soda selected.\")\n",
        "\n",
        "\n",
        "\n",
        "# Tell the customer how much money they have available\n",
        "print(f\"You have ${round(money,2)} available\")\n",
        "\n",
        "# Tell the customer what they purchased\n",
        "print(f\"You purchased {purchased_tickets} lottery ticket(s), {apple_amount} apple(s), {canned_beans_amount} can(s) of beans, and {soda_amount} can(s) of soda.\")\n",
        "\n",
        "\n",
        "\n",
        "\n",
        "\n",
        "\n",
        "\n",
        "\n",
        "\n",
        "#money"
      ],
      "metadata": {
        "id": "HKoUkLKrPqlW",
        "colab": {
          "base_uri": "https://localhost:8080/"
        },
        "outputId": "cb3459a1-d9f3-4df1-f1e2-997984eee366"
      },
      "execution_count": 31,
      "outputs": [
        {
          "output_type": "stream",
          "name": "stdout",
          "text": [
            "Welcome to the supermarket! Here's what we have in stock:\n",
            "Lottery tickets cost  $2 each - Apples cost $0.99 each\n",
            "Cans of beans cost  $1.58 each - Sodas cost $1.23 each\n",
            "You have $5 available\n",
            "First, do you want to buy a $2 lottery ticket for a chance at winning $2-$10? (y/n)y\n",
            "Congrats! You won $4!\n",
            "You have $9 available\n",
            "Do you want to buy apple(s)? (y/n)n\n",
            "You have $9 available\n",
            "Do you want to buy beans? (y/n)y\n",
            "How many cans of beans do you want to buy?1\n",
            "The user wants to buy 1 can(s) of beans. This will cost $1.58.\n",
            "The user has enough money. 1 can(s) of beans purchased.\n",
            "You have $7.42 available\n",
            "Do you want to buy apple(s)? (y/n)n\n",
            "You have $7.42 available\n",
            "You purchased 1 lottery ticket(s), 0 apple(s), 1 can(s) of beans, and n can(s) of soda.\n"
          ]
        }
      ]
    },
    {
      "cell_type": "code",
      "source": [
        "print(f\"You have ${round(money,2)} available\")\n",
        "\n",
        "#(round(b,2))"
      ],
      "metadata": {
        "colab": {
          "base_uri": "https://localhost:8080/"
        },
        "id": "BWqBnHPE3IBv",
        "outputId": "87ab1447-3c25-4f0f-915b-07696a9d4829"
      },
      "execution_count": 32,
      "outputs": [
        {
          "output_type": "stream",
          "name": "stdout",
          "text": [
            "You have $7.42 available\n"
          ]
        }
      ]
    },
    {
      "cell_type": "code",
      "source": [],
      "metadata": {
        "id": "d_CTKPHc3G8E"
      },
      "execution_count": null,
      "outputs": []
    },
    {
      "cell_type": "code",
      "source": [],
      "metadata": {
        "colab": {
          "base_uri": "https://localhost:8080/"
        },
        "id": "gDNF6h6117JW",
        "outputId": "67083f64-202b-4c5c-ef40-7bae30a900cc"
      },
      "execution_count": 19,
      "outputs": [
        {
          "output_type": "execute_result",
          "data": {
            "text/plain": [
              "13"
            ]
          },
          "metadata": {},
          "execution_count": 19
        }
      ]
    },
    {
      "cell_type": "markdown",
      "source": [],
      "metadata": {
        "id": "7Kf4cWKAPqER"
      }
    }
  ]
}